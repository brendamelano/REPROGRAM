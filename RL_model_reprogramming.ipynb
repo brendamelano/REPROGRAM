{
 "cells": [
  {
   "cell_type": "code",
   "execution_count": 1,
   "id": "bb747890",
   "metadata": {},
   "outputs": [
    {
     "ename": "ModuleNotFoundError",
     "evalue": "No module named 'gymnasium'",
     "output_type": "error",
     "traceback": [
      "\u001b[0;31m---------------------------------------------------------------------------\u001b[0m",
      "\u001b[0;31mModuleNotFoundError\u001b[0m                       Traceback (most recent call last)",
      "Cell \u001b[0;32mIn[1], line 1\u001b[0m\n\u001b[0;32m----> 1\u001b[0m \u001b[38;5;28;01mimport\u001b[39;00m \u001b[38;5;21;01mgymnasium\u001b[39;00m \u001b[38;5;28;01mas\u001b[39;00m \u001b[38;5;21;01mgym\u001b[39;00m\n",
      "\u001b[0;31mModuleNotFoundError\u001b[0m: No module named 'gymnasium'"
     ]
    }
   ],
   "source": [
    "import gymnasium as gym\n"
   ]
  },
  {
   "cell_type": "code",
   "execution_count": null,
   "id": "f8c5a20e-3741-4921-9947-6789b21e26ad",
   "metadata": {},
   "outputs": [],
   "source": [
    "from gym import spaces\n",
    "import numpy as np\n",
    "import scanpy as sc\n",
    "import svae\n",
    "import cellrank as cr\n"
   ]
  },
  {
   "cell_type": "code",
   "execution_count": 2,
   "id": "011e2227-5156-4e95-a5ab-243ff50f2022",
   "metadata": {},
   "outputs": [],
   "source": [
    "import numpy as np"
   ]
  },
  {
   "cell_type": "code",
   "execution_count": 1,
   "id": "9a3fb11e",
   "metadata": {},
   "outputs": [
    {
     "ename": "ModuleNotFoundError",
     "evalue": "No module named 'scanpy'",
     "output_type": "error",
     "traceback": [
      "\u001b[0;31m---------------------------------------------------------------------------\u001b[0m",
      "\u001b[0;31mModuleNotFoundError\u001b[0m                       Traceback (most recent call last)",
      "Cell \u001b[0;32mIn[1], line 1\u001b[0m\n\u001b[0;32m----> 1\u001b[0m \u001b[38;5;28;01mimport\u001b[39;00m \u001b[38;5;21;01mscanpy\u001b[39;00m \u001b[38;5;28;01mas\u001b[39;00m \u001b[38;5;21;01msc\u001b[39;00m\n",
      "\u001b[0;31mModuleNotFoundError\u001b[0m: No module named 'scanpy'"
     ]
    }
   ],
   "source": [
    "import scanpy as sc"
   ]
  },
  {
   "cell_type": "code",
   "execution_count": 8,
   "id": "f96e7a23",
   "metadata": {},
   "outputs": [],
   "source": [
    "class EmbeddingEnv(gym.Env):\n",
    "    def __init__(self, embedding_file, transition_matrix):\n",
    "        # Load the embedding from the file\n",
    "        self.embedding = np.load(embedding_file) # must be able to load csv\n",
    "        \n",
    "        #defining the observation space\n",
    "        self.observation_space = spaces.Box(low = -1, high = 1, shape=(self.embedding.shape[1],), dtype=np.float32)\n",
    "        self.action_space = spaces.Box(low=-1.0, high=1.0, shape=(self.embedding.shape[1],), dtype=np.float32)\n",
    "        \n",
    "        # Initialize the state of the environment to a random cell in the embedding\n",
    "        self.current_observation = self.observation_space.sample()\n",
    "        \n",
    "        self.reward_range = (0,1)\n",
    "        \n",
    "        \n",
    "    def step(self, action):\n",
    "        \n",
    "        # Apply the modulations to the latent dimensions \n",
    "        modulated_embedding = self.embedding + action\n",
    "        \n",
    "        # Compute the new position of the cell in the embedding\n",
    "        distances = np.linalg.norm(modulated_embedding - self.current_observation, axis=1)\n",
    "        new_observation = modulated_embedding[np.argmin(distances)]\n",
    "        \n",
    "        # Calculate the reward based on the probability of absorption\n",
    "        reward = self.transition_matrix[self.current_observation, new_observation]\n",
    "        \n",
    "        # Check if the next state is the terminal state\n",
    "        done = (new_observation == self.transition_matrix.shape[0] - 1)\n",
    "        \n",
    "        # Update the state of the environment \n",
    "        self.current_observation = new_observation\n",
    "        \n",
    "        # executing the time step in the environment based on the given action\n",
    "        return self.current_observation, reward, done, {}\n",
    "    \n",
    "        \n",
    "    def reset(self):\n",
    "        # resetting the state of the environment to a random cell in the embedding\n",
    "        self.current_observation = self.observation_space.sample()\n",
    "        return self.current_observation\n",
    "    \n",
    "    "
   ]
  },
  {
   "cell_type": "code",
   "execution_count": 3,
   "id": "cf41c6bc",
   "metadata": {},
   "outputs": [],
   "source": [
    "class Agent:\n",
    "    def __init__(self, alpha, gamma, epsilon):\n",
    "        self.alpha = alpha  # learning rate\n",
    "        self.gamma = gamma  # discount factor\n",
    "        self.epsilon = epsilon  # exploration rate\n",
    "        self.Q = np.zeros((11, 2))\n",
    "        \n",
    "    def choose_action(self, state):\n",
    "        if np.random.uniform() < self.epsilon:\n",
    "            action = np.random.choice([-1, 1])\n",
    "        else:\n",
    "            action = np.argmax(self.Q[state])\n",
    "        return action\n",
    "    \n",
    "    def learn(self, state, action, reward, next_state, done):\n",
    "        if done:\n",
    "            target = reward\n",
    "        else:\n",
    "            target = reward + self.gamma * np.max(self.Q[next_state])\n",
    "            self.Q[state, action] += self.alpha * (target - self.Q[state, action])"
   ]
  },
  {
   "cell_type": "code",
   "execution_count": 9,
   "id": "d8f4f902",
   "metadata": {},
   "outputs": [
    {
     "ename": "OSError",
     "evalue": "Failed to interpret file '/Users/brendamelano/Desktop/svae_latent_array_152.csv' as a pickle",
     "output_type": "error",
     "traceback": [
      "\u001b[0;31m---------------------------------------------------------------------------\u001b[0m",
      "\u001b[0;31mUnpicklingError\u001b[0m                           Traceback (most recent call last)",
      "File \u001b[0;32m~/opt/anaconda3/lib/python3.9/site-packages/numpy/lib/npyio.py:448\u001b[0m, in \u001b[0;36mload\u001b[0;34m(file, mmap_mode, allow_pickle, fix_imports, encoding)\u001b[0m\n\u001b[1;32m    447\u001b[0m \u001b[38;5;28;01mtry\u001b[39;00m:\n\u001b[0;32m--> 448\u001b[0m     \u001b[38;5;28;01mreturn\u001b[39;00m \u001b[43mpickle\u001b[49m\u001b[38;5;241;43m.\u001b[39;49m\u001b[43mload\u001b[49m\u001b[43m(\u001b[49m\u001b[43mfid\u001b[49m\u001b[43m,\u001b[49m\u001b[43m \u001b[49m\u001b[38;5;241;43m*\u001b[39;49m\u001b[38;5;241;43m*\u001b[39;49m\u001b[43mpickle_kwargs\u001b[49m\u001b[43m)\u001b[49m\n\u001b[1;32m    449\u001b[0m \u001b[38;5;28;01mexcept\u001b[39;00m \u001b[38;5;167;01mException\u001b[39;00m \u001b[38;5;28;01mas\u001b[39;00m e:\n",
      "\u001b[0;31mUnpicklingError\u001b[0m: unpickling stack underflow",
      "\nThe above exception was the direct cause of the following exception:\n",
      "\u001b[0;31mOSError\u001b[0m                                   Traceback (most recent call last)",
      "Input \u001b[0;32mIn [9]\u001b[0m, in \u001b[0;36m<cell line: 2>\u001b[0;34m()\u001b[0m\n\u001b[1;32m      1\u001b[0m \u001b[38;5;66;03m# Creating the environment based on the class that I built\u001b[39;00m\n\u001b[0;32m----> 2\u001b[0m env \u001b[38;5;241m=\u001b[39m \u001b[43mEmbeddingEnv\u001b[49m\u001b[43m(\u001b[49m\u001b[43membedding_file\u001b[49m\u001b[43m \u001b[49m\u001b[38;5;241;43m=\u001b[39;49m\u001b[43m \u001b[49m\u001b[38;5;124;43m\"\u001b[39;49m\u001b[38;5;124;43m/Users/brendamelano/Desktop/svae_latent_array_152.csv\u001b[39;49m\u001b[38;5;124;43m\"\u001b[39;49m\u001b[43m,\u001b[49m\u001b[43m \u001b[49m\u001b[43mtransition_matrix\u001b[49m\u001b[43m \u001b[49m\u001b[38;5;241;43m=\u001b[39;49m\u001b[43m \u001b[49m\u001b[38;5;124;43m\"\u001b[39;49m\u001b[38;5;124;43m/Users/brendamelano/Desktop/svae_abs_probs_152.csv\u001b[39;49m\u001b[38;5;124;43m\"\u001b[39;49m\u001b[43m)\u001b[49m\n",
      "Input \u001b[0;32mIn [8]\u001b[0m, in \u001b[0;36mEmbeddingEnv.__init__\u001b[0;34m(self, embedding_file, transition_matrix)\u001b[0m\n\u001b[1;32m      2\u001b[0m \u001b[38;5;28;01mdef\u001b[39;00m \u001b[38;5;21m__init__\u001b[39m(\u001b[38;5;28mself\u001b[39m, embedding_file, transition_matrix):\n\u001b[1;32m      3\u001b[0m     \u001b[38;5;66;03m# Load the embedding from the file\u001b[39;00m\n\u001b[0;32m----> 4\u001b[0m     \u001b[38;5;28mself\u001b[39m\u001b[38;5;241m.\u001b[39membedding \u001b[38;5;241m=\u001b[39m \u001b[43mnp\u001b[49m\u001b[38;5;241;43m.\u001b[39;49m\u001b[43mload\u001b[49m\u001b[43m(\u001b[49m\u001b[43membedding_file\u001b[49m\u001b[43m,\u001b[49m\u001b[43m \u001b[49m\u001b[43mallow_pickle\u001b[49m\u001b[43m \u001b[49m\u001b[38;5;241;43m=\u001b[39;49m\u001b[43m \u001b[49m\u001b[38;5;28;43;01mTrue\u001b[39;49;00m\u001b[43m)\u001b[49m\n\u001b[1;32m      6\u001b[0m     \u001b[38;5;66;03m#defining the observation space\u001b[39;00m\n\u001b[1;32m      7\u001b[0m     \u001b[38;5;28mself\u001b[39m\u001b[38;5;241m.\u001b[39mobservation_space \u001b[38;5;241m=\u001b[39m spaces\u001b[38;5;241m.\u001b[39mBox(low \u001b[38;5;241m=\u001b[39m \u001b[38;5;241m-\u001b[39m\u001b[38;5;241m1\u001b[39m, high \u001b[38;5;241m=\u001b[39m \u001b[38;5;241m1\u001b[39m, shape\u001b[38;5;241m=\u001b[39m(\u001b[38;5;28mself\u001b[39m\u001b[38;5;241m.\u001b[39membedding\u001b[38;5;241m.\u001b[39mshape[\u001b[38;5;241m1\u001b[39m],), dtype\u001b[38;5;241m=\u001b[39mnp\u001b[38;5;241m.\u001b[39mfloat32)\n",
      "File \u001b[0;32m~/opt/anaconda3/lib/python3.9/site-packages/numpy/lib/npyio.py:450\u001b[0m, in \u001b[0;36mload\u001b[0;34m(file, mmap_mode, allow_pickle, fix_imports, encoding)\u001b[0m\n\u001b[1;32m    448\u001b[0m     \u001b[38;5;28;01mreturn\u001b[39;00m pickle\u001b[38;5;241m.\u001b[39mload(fid, \u001b[38;5;241m*\u001b[39m\u001b[38;5;241m*\u001b[39mpickle_kwargs)\n\u001b[1;32m    449\u001b[0m \u001b[38;5;28;01mexcept\u001b[39;00m \u001b[38;5;167;01mException\u001b[39;00m \u001b[38;5;28;01mas\u001b[39;00m e:\n\u001b[0;32m--> 450\u001b[0m     \u001b[38;5;28;01mraise\u001b[39;00m \u001b[38;5;167;01mIOError\u001b[39;00m(\n\u001b[1;32m    451\u001b[0m         \u001b[38;5;124m\"\u001b[39m\u001b[38;5;124mFailed to interpret file \u001b[39m\u001b[38;5;132;01m%s\u001b[39;00m\u001b[38;5;124m as a pickle\u001b[39m\u001b[38;5;124m\"\u001b[39m \u001b[38;5;241m%\u001b[39m \u001b[38;5;28mrepr\u001b[39m(file)) \u001b[38;5;28;01mfrom\u001b[39;00m \u001b[38;5;21;01me\u001b[39;00m\n",
      "\u001b[0;31mOSError\u001b[0m: Failed to interpret file '/Users/brendamelano/Desktop/svae_latent_array_152.csv' as a pickle"
     ]
    }
   ],
   "source": [
    "# Creating the environment based on the class that I built\n",
    "env = EmbeddingEnv(embedding_file = \"/Users/brendamelano/Desktop/svae_latent_array_152.csv\", transition_matrix = \"/Users/brendamelano/Desktop/svae_abs_probs_152.csv\")\n",
    "\n"
   ]
  },
  {
   "cell_type": "code",
   "execution_count": null,
   "id": "66d3171e",
   "metadata": {},
   "outputs": [],
   "source": [
    "# Training the agent with DQN\n",
    "from stable_baseline3 import DQN \n",
    "\n",
    "# Define the Q-learning agent\n",
    "q_agent = DQN('M1pPolicy', env, learning_rate = 0.001, buffer_size = 50000, verbose = 1)\n",
    "\n",
    "\n",
    "# Train the agent \n",
    "total_timesteps = 50000\n",
    "q_agent.learn(total_timesteps = total_steps)\n",
    "\n",
    "# Evaluate the agent \n",
    "obs = env.reset()\n",
    "for i in range(10):\n",
    "    done = False\n",
    "    while not done:\n",
    "        action, _states = q_agent.predict(obs, deterministic = True)\n",
    "        obs, rewardm done, info = env.step(action)\n",
    "    print(f\"Episode {i+1} finished with reward {reward}\")\n",
    "\n"
   ]
  },
  {
   "cell_type": "code",
   "execution_count": 8,
   "id": "22b439ba",
   "metadata": {},
   "outputs": [],
   "source": [
    "\n",
    "env = gym.make(\"LunarLander-v2\", render_mode=\"human\")\n",
    "observation, info = env.reset(seed=42)\n",
    "for _ in range(1000):\n",
    "   action = env.action_space.sample()  # this is where you would insert your policy\n",
    "   observation, reward, terminated, truncated, info = env.step(action)\n",
    "\n",
    "   if terminated or truncated:\n",
    "      observation, info = env.reset()\n",
    "env.close()"
   ]
  },
  {
   "cell_type": "code",
   "execution_count": null,
   "id": "0a49bd4b",
   "metadata": {},
   "outputs": [],
   "source": [
    "# building regulatory network with Bayesian Network"
   ]
  },
  {
   "cell_type": "code",
   "execution_count": null,
   "id": "5da68384",
   "metadata": {},
   "outputs": [],
   "source": [
    "# inferring profiles with GRN"
   ]
  },
  {
   "cell_type": "code",
   "execution_count": null,
   "id": "31b23643",
   "metadata": {},
   "outputs": [],
   "source": [
    "# feeding profiles into cell rank to get transition matrices"
   ]
  },
  {
   "cell_type": "code",
   "execution_count": null,
   "id": "9ed47646",
   "metadata": {},
   "outputs": [],
   "source": []
  },
  {
   "cell_type": "markdown",
   "id": "d19e42a9-e43c-4da7-85a2-7844a7e86d98",
   "metadata": {},
   "source": [
    "# From other script"
   ]
  },
  {
   "cell_type": "code",
   "execution_count": null,
   "id": "37da57a0-2ff6-4d71-a6a5-bf04e12dea6c",
   "metadata": {},
   "outputs": [],
   "source": [
    "import gym\n",
    "import numpy as np\n",
    "import tensorflow as tf\n",
    "from tensorflow.keras import layers"
   ]
  },
  {
   "cell_type": "code",
   "execution_count": null,
   "id": "0792c24b-2075-42f7-9579-322113445c2f",
   "metadata": {},
   "outputs": [],
   "source": [
    "class LatentSpaceEnv(gym.Env):\n",
    "    def __init__(self, action_df, target_point):\n",
    "        super(LatentSpaceEnv, self).__init__()\n",
    "        self.action_df = action_df\n",
    "        self.action_space = gym.spaces.Discrete(len(action_df))\n",
    "        self.observation_space = gym.spaces.Box(low=-np.inf, high=np.inf, shape=(128,), dtype=np.float32)\n",
    "        self.current_state = np.random.rand(128)\n",
    "        self.target_point = target_point\n",
    "\n",
    "    def step(self, action):\n",
    "        # Apply action to current_state\n",
    "        action_effect = self.action_df.iloc[action].values\n",
    "        self.current_state += action_effect\n",
    "\n",
    "        # Calculate Euclidean distance to target_point as the reward\n",
    "        distance = np.linalg.norm(self.current_state - self.target_point)\n",
    "        reward = -distance  # Negative reward, lower distance is better\n",
    "\n",
    "        # Check if the target is reached or sufficiently close\n",
    "        done = distance < 0.01\n",
    "\n",
    "        return self.current_state, reward, done, {}\n",
    "\n",
    "    def reset(self):\n",
    "        self.current_state = np.random.rand(128)\n",
    "        return self.current_state"
   ]
  },
  {
   "cell_type": "code",
   "execution_count": null,
   "id": "a4243fad-f41c-47a4-bcc2-675f9352c96f",
   "metadata": {},
   "outputs": [],
   "source": [
    "class SimpleDQN:\n",
    "    def __init__(self, observation_space, action_space):\n",
    "        self.observation_space = observation_space\n",
    "        self.action_space = action_space\n",
    "        self.model = self.create_model()\n",
    "\n",
    "    def create_model(self):\n",
    "        model = tf.keras.Sequential()\n",
    "        model.add(layers.Input(shape=(self.observation_space.shape[0],)))\n",
    "        model.add(layers.Dense(256, activation='relu'))\n",
    "        model.add(layers.Dense(256, activation='relu'))\n",
    "        model.add(layers.Dense(self.action_space.n, activation='linear'))\n",
    "        model.compile(optimizer=tf.keras.optimizers.Adam(), loss='mse')\n",
    "        return model\n",
    "\n",
    "    def choose_action(self, state):\n",
    "        state = np.reshape(state, [1, self.observation_space.shape[0]])\n",
    "        action_values = self.model.predict(state)\n",
    "        return np.argmax(action_values[0])\n",
    "\n",
    "    def learn(self, state, action, reward, next_state):\n",
    "        # Implement learning process\n",
    "        pass"
   ]
  },
  {
   "cell_type": "code",
   "execution_count": null,
   "id": "b322ebc2-2ba1-4642-afd6-ef4cafe4f590",
   "metadata": {},
   "outputs": [],
   "source": [
    "# Initialize the environment with arbitrary target point\n",
    "target_point = np.random.rand(128)\n",
    "env = LatentSpaceEnv(action_df, target_point)\n",
    "\n",
    "# Initialize the DQN model\n",
    "model = SimpleDQN(env.observation_space, env.action_space)\n"
   ]
  },
  {
   "cell_type": "code",
   "execution_count": null,
   "id": "d72ca2e6-aef2-4687-9781-37861cfd71f3",
   "metadata": {},
   "outputs": [],
   "source": [
    "num_episodes = 100\n",
    "for episode in range(num_episodes):\n",
    "    state = env.reset()\n",
    "    total_reward = 0\n",
    "    done = False\n",
    "\n",
    "    while not done:\n",
    "        action = model.choose_action(state)\n",
    "        new_state, reward, done, _ = env.step(action)\n",
    "        model.learn(state, action, reward, new_state)\n",
    "        state = new_state\n",
    "        total_reward += reward\n",
    "\n",
    "    print(f\"Episode: {episode}, Total Reward: {total_reward}\")"
   ]
  },
  {
   "cell_type": "code",
   "execution_count": null,
   "id": "192ea3f9-8008-4401-bb82-e05f4aba634d",
   "metadata": {},
   "outputs": [],
   "source": []
  },
  {
   "cell_type": "code",
   "execution_count": null,
   "id": "69ca30e3-d031-4465-bc19-40fe51e59a68",
   "metadata": {},
   "outputs": [],
   "source": []
  }
 ],
 "metadata": {
  "kernelspec": {
   "display_name": "Python 3 (ipykernel)",
   "language": "python",
   "name": "python3"
  },
  "language_info": {
   "codemirror_mode": {
    "name": "ipython",
    "version": 3
   },
   "file_extension": ".py",
   "mimetype": "text/x-python",
   "name": "python",
   "nbconvert_exporter": "python",
   "pygments_lexer": "ipython3",
   "version": "3.11.5"
  }
 },
 "nbformat": 4,
 "nbformat_minor": 5
}
