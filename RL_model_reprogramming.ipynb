{
 "cells": [
  {
   "cell_type": "code",
   "execution_count": 1,
   "id": "bb747890",
   "metadata": {},
   "outputs": [
    {
     "name": "stderr",
     "output_type": "stream",
     "text": [
      "Global seed set to 0\n",
      "/Users/brendamelano/miniconda3/envs/scvi_env/lib/python3.11/site-packages/pytorch_lightning/utilities/warnings.py:53: LightningDeprecationWarning: pytorch_lightning.utilities.warnings.rank_zero_deprecation has been deprecated in v1.6 and will be removed in v1.8. Use the equivalent function from the pytorch_lightning.utilities.rank_zero module instead.\n",
      "  new_rank_zero_deprecation(\n",
      "/Users/brendamelano/miniconda3/envs/scvi_env/lib/python3.11/site-packages/pytorch_lightning/utilities/warnings.py:58: LightningDeprecationWarning: The `pytorch_lightning.loggers.base.rank_zero_experiment` is deprecated in v1.7 and will be removed in v1.9. Please use `pytorch_lightning.loggers.logger.rank_zero_experiment` instead.\n",
      "  return new_rank_zero_deprecation(*args, **kwargs)\n"
     ]
    }
   ],
   "source": [
    "from tensorflow.keras import layers\n",
    "import gymnasium as gym\n",
    "#from gym import spaces\n",
    "import tensorflow as tf\n",
    "import numpy as np\n",
    "import scanpy as sc\n",
    "import cellrank as cr\n",
    "import pandas as pd\n",
    "#import gym"
   ]
  },
  {
   "cell_type": "code",
   "execution_count": null,
   "id": "034354ec-229e-4815-9a14-b1831c0b57af",
   "metadata": {},
   "outputs": [],
   "source": [
    "# Training the agent with DQN\n",
    "#from stable_baseline3 import DQN "
   ]
  },
  {
   "cell_type": "code",
   "execution_count": null,
   "id": "59f53591-280f-4c62-9e15-d6111c37ac54",
   "metadata": {},
   "outputs": [],
   "source": [
    "action_df = pd.read_csv('/Users/brendamelano/Desktop/RL_for_reprogramming/action_df.csv')"
   ]
  },
  {
   "cell_type": "code",
   "execution_count": null,
   "id": "eb3af09f-5c15-4f47-8597-725665adae60",
   "metadata": {},
   "outputs": [],
   "source": [
    "class LatentSpaceEnv(gym.Env):\n",
    "    def __init__(self, action_df, target_point):\n",
    "        super(LatentSpaceEnv, self).__init__()\n",
    "\n",
    "        # The action_df describes how each perturbation affects each latent variable\n",
    "        self.action_df = action_df\n",
    "        self.action_space = gym.spaces.Discrete(len(action_df))\n",
    "\n",
    "        # Low and high should be determined by the min and max of the latent variables in the embedding\n",
    "        self.observation_space = gym.spaces.Box(low=-np.inf, high=np.inf, shape=(6,), dtype=np.float32)\n",
    "\n",
    "        # It's important for this to be random for the learning phase, but will be set to cluster centers late\n",
    "        self.current_state = np.random.rand(6)\n",
    "\n",
    "        # Needs to be set a the epicenter of a certain cluster\n",
    "        self.target_point = target_point\n",
    "\n",
    "    def step(self, action):\n",
    "        \n",
    "        # Apply action to current_state\n",
    "        action_effect = self.action_df.iloc[action].values\n",
    "        self.current_state += action_effect\n",
    "\n",
    "        # Calculate Euclidean distance to target_point as the reward\n",
    "        distance = np.linalg.norm(self.current_state - self.target_point)\n",
    "        reward = -distance  # Negative reward, lower distance is better\n",
    "\n",
    "        # Compute the new position of the cell in the embedding\n",
    "        #distances = np.linalg.norm(modulated_embedding - self.current_observation, axis=1)\n",
    "        #new_observation = modulated_embedding[np.argmin(distances)]\n",
    "        \n",
    "        # Calculate the reward based on the probability of absorption\n",
    "        # This can be used at a later point. Use distance first\n",
    "        #reward = self.transition_matrix[self.current_observation, new_observation]\n",
    "\n",
    "        # Check if the target is reached or sufficiently close\n",
    "        done = distance < 0.01\n",
    "\n",
    "        # Check if the next state is the terminal state\n",
    "        #done = (new_observation == self.transition_matrix.shape[0] - 1)\n",
    "\n",
    "        # Update the state of the environment \n",
    "        self.current_observation = new_observation\n",
    "\n",
    "        self.reward_range = (0,1)\n",
    "        \n",
    "        return self.current_state, reward, done, {}\n",
    "\n",
    "    def reset(self):\n",
    "        self.current_state = np.random.rand(6)\n",
    "        return self.current_state"
   ]
  },
  {
   "cell_type": "code",
   "execution_count": null,
   "id": "708fccf7-c850-49f7-8683-d064e5d600a2",
   "metadata": {},
   "outputs": [],
   "source": [
    "class SimpleDQN:\n",
    "    def __init__(self, observation_space, action_space, alpha, gamma, epsilon):\n",
    "        self.observation_space = observation_space\n",
    "        self.action_space = action_space\n",
    "        self.model = self.create_model()\n",
    "        self.alpha = alpha  # learning rate\n",
    "        self.gamma = gamma  # discount factor\n",
    "        self.epsilon = epsilon  # exploration rate\n",
    "        self.Q = np.zeros((11, 2))\n",
    "\n",
    "    def create_model(self):\n",
    "        model = tf.keras.Sequential()\n",
    "        model.add(layers.Input(shape=(self.observation_space.shape[0],)))\n",
    "        model.add(layers.Dense(256, activation='relu'))\n",
    "        model.add(layers.Dense(256, activation='relu'))\n",
    "        model.add(layers.Dense(self.action_space.n, activation='linear'))\n",
    "        model.compile(optimizer=tf.keras.optimizers.Adam(), loss='mse')\n",
    "        return model\n",
    "\n",
    "    def choose_action(self, state):\n",
    "        state = np.reshape(state, [1, self.observation_space.shape[0]])\n",
    "        action_values = self.model.predict(state)\n",
    "        return np.argmax(action_values[0])\n",
    "\n",
    "    def choose_action(self, state):\n",
    "        if np.random.uniform() < self.epsilon:\n",
    "            action = np.random.choice([-1, 1])\n",
    "        else:\n",
    "            action = np.argmax(self.Q[state])\n",
    "        return action\n",
    "\n",
    "    def learn(self, state, action, reward, next_state):\n",
    "        # Implement learning process\n",
    "        pass\n",
    "\n",
    "    def learn(self, state, action, reward, next_state, done):\n",
    "        if done:\n",
    "            target = reward\n",
    "        else:\n",
    "            target = reward + self.gamma * np.max(self.Q[next_state])\n",
    "            self.Q[state, action] += self.alpha * (target - self.Q[state, action])\n",
    "        \n",
    "    def get_perturbations_to_target(self, initial_state, target_state, max_steps=100): \n",
    "        current_state = initial_state \n",
    "        perturbations = [] \n",
    "        for _ in range(max_steps): \n",
    "            action = self.choose_action(current_state) \n",
    "            next_state = self.apply_action(current_state, action) \n",
    "            perturbations.append(action) \n",
    "            \n",
    "            if np.allclose(next_state, target_state, atol=1e-2): # You can adjust the tolerance break current_state = next_state return perturbations\n",
    "                break\n",
    "\n",
    "            current_state = next_state\n",
    "\n",
    "        return perturbations"
   ]
  },
  {
   "cell_type": "code",
   "execution_count": null,
   "id": "d8f4f902",
   "metadata": {},
   "outputs": [],
   "source": [
    "# Creating the environment based on the class that I built\n",
    "env = EmbeddingEnv(embedding_file = \"/Users/brendamelano/Desktop/svae_latent_array_152.csv\", transition_matrix = \"/Users/brendamelano/Desktop/svae_abs_probs_152.csv\")\n",
    "\n"
   ]
  },
  {
   "cell_type": "code",
   "execution_count": null,
   "id": "66d3171e",
   "metadata": {},
   "outputs": [],
   "source": [
    "# Define the Q-learning agent\n",
    "q_agent = DQN('M1pPolicy', env, learning_rate = 0.001, buffer_size = 50000, verbose = 1)\n",
    "\n",
    "\n",
    "# Train the agent \n",
    "# Does not converge, just trains for specified number of episodes/steps\n",
    "total_timesteps = 50000\n",
    "q_agent.learn(total_timesteps = total_steps)\n",
    "\n",
    "\n",
    "# Resetting the environment \n",
    "obs = env.reset()\n",
    "\n",
    "# \n",
    "for i in range(10):\n",
    "    done = False\n",
    "    while not done:\n",
    "        action, _states = q_agent.predict(obs, deterministic = True)\n",
    "        obs, rewardm done, info = env.step(action)\n",
    "    print(f\"Episode {i+1} finished with reward {reward}\")"
   ]
  },
  {
   "cell_type": "code",
   "execution_count": 18,
   "id": "b322ebc2-2ba1-4642-afd6-ef4cafe4f590",
   "metadata": {},
   "outputs": [],
   "source": [
    "# Initialize the environment with target point for a specific cluster\n",
    "target_point = np.random.rand(6)\n",
    "\n",
    "# Defining the environment\n",
    "env = LatentSpaceEnv(action_df, target_point)"
   ]
  },
  {
   "cell_type": "code",
   "execution_count": 23,
   "id": "4f1cb59b-bf0c-4bce-bd36-708316721176",
   "metadata": {},
   "outputs": [],
   "source": [
    "# Initialize the DQN model\n",
    "model = SimpleDQN(env.observation_space, env.action_space)\n"
   ]
  },
  {
   "cell_type": "code",
   "execution_count": null,
   "id": "d72ca2e6-aef2-4687-9781-37861cfd71f3",
   "metadata": {},
   "outputs": [],
   "source": [
    "# Defining the number of training episodes\n",
    "num_episodes = 10\n",
    "for episode in range(num_episodes):\n",
    "    state = env.reset()\n",
    "    total_reward = 0\n",
    "    done = False\n",
    "\n",
    "    while not done:\n",
    "        action = model.choose_action(state)\n",
    "        new_state, reward, done, _ = env.step(action)\n",
    "        model.learn(state, action, reward, new_state)\n",
    "        state = new_state\n",
    "        total_reward += reward\n",
    "\n",
    "    print(f\"Episode: {episode}, Total Reward: {total_reward}\")"
   ]
  }
 ],
 "metadata": {
  "kernelspec": {
   "display_name": "Python 3 (ipykernel)",
   "language": "python",
   "name": "python3"
  },
  "language_info": {
   "codemirror_mode": {
    "name": "ipython",
    "version": 3
   },
   "file_extension": ".py",
   "mimetype": "text/x-python",
   "name": "python",
   "nbconvert_exporter": "python",
   "pygments_lexer": "ipython3",
   "version": "3.11.9"
  }
 },
 "nbformat": 4,
 "nbformat_minor": 5
}
